{
 "cells": [
  {
   "cell_type": "code",
   "execution_count": null,
   "id": "1e81772d",
   "metadata": {},
   "outputs": [],
   "source": [
    "#Pycaret:\n",
    "#from pycaret.regression import *\n",
    "#Pipeline de pycaret:\n",
    "#1. Setup() : Definir el dataset y parametros\n",
    "    #exp = setup(data=df, target='precio', session_id=12,normalize=True)\n",
    "#2. Compare_models(): Compara multiples modelos y los rankea\n",
    "    #mejor_modelo = compare_models()\n",
    "#3. Create model() : Crea un modelo especifico\n",
    "    #lr = create_model('lr') \n",
    "#4. Tune_model() :Ajuste automatico de hiperparametros\n",
    "    #tuned_lr = tune_model(lr)\n",
    "#5. plot_model(): visualiza (graficamente) el desempeño del modelo\n",
    "    #plot_model(tuned_lr,plot='residuals')\n",
    "    #plot_model(tuned_lr,plot='feature')\n",
    "#6. evaluate_model(): UI de evaluación del modelo\n",
    "    #evaluate_model(tuned_lr)\n",
    "#7. predict_model(): Predicciones sobre nuevos datos en el DF\n",
    "    #predicciones = predict_model(tuned_lr,data=nuevo_df)\n",
    "#8. save_model()/load_model(): Guardar y cargar modelo.\n",
    "    #save_model(tunel_lr,'modelo_final')"
   ]
  },
  {
   "cell_type": "code",
   "execution_count": null,
   "id": "14aeed60",
   "metadata": {},
   "outputs": [],
   "source": [
    "#Caso: Prediccion de precios de departamentos en Lima\n",
    "#Objetivo: Construir "
   ]
  },
  {
   "cell_type": "code",
   "execution_count": 1,
   "id": "20a6f027",
   "metadata": {},
   "outputs": [
    {
     "name": "stderr",
     "output_type": "stream",
     "text": [
      "Matplotlib is building the font cache; this may take a moment.\n"
     ]
    }
   ],
   "source": [
    "import pandas as pd\n",
    "from pycaret.regression import *\n"
   ]
  },
  {
   "cell_type": "code",
   "execution_count": null,
   "id": "f57cfedc",
   "metadata": {},
   "outputs": [],
   "source": [
    "df = pd.read_csv(\"precio_departamentos\")"
   ]
  }
 ],
 "metadata": {
  "kernelspec": {
   "display_name": "Python 3",
   "language": "python",
   "name": "python3"
  },
  "language_info": {
   "codemirror_mode": {
    "name": "ipython",
    "version": 3
   },
   "file_extension": ".py",
   "mimetype": "text/x-python",
   "name": "python",
   "nbconvert_exporter": "python",
   "pygments_lexer": "ipython3",
   "version": "3.11.0"
  }
 },
 "nbformat": 4,
 "nbformat_minor": 5
}
