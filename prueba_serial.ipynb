{
 "cells": [
  {
   "cell_type": "code",
   "execution_count": 10,
   "id": "502b4eb0",
   "metadata": {},
   "outputs": [],
   "source": [
    "import serial\n",
    "import time"
   ]
  },
  {
   "cell_type": "code",
   "execution_count": 13,
   "id": "1a30f494",
   "metadata": {},
   "outputs": [],
   "source": [
    "# Configura el puerto serial (/dev/ttyS0)\n",
    "puerto = 'COM11'  \n",
    "\n",
    "baud_rate = 9600  # Velocidad en baudios"
   ]
  },
  {
   "cell_type": "code",
   "execution_count": 17,
   "id": "a66e2d66",
   "metadata": {},
   "outputs": [
    {
     "name": "stdout",
     "output_type": "stream",
     "text": [
      "Error al abrir el puerto serial\n"
     ]
    }
   ],
   "source": [
    "try:\n",
    "    # Abre el puerto serial\n",
    "    ser = serial.Serial(puerto, baud_rate, timeout=1)\n",
    "    print(f\"Abierto puerto serial: {ser.name}\")\n",
    "    \n",
    "    while True:\n",
    "        if ser.in_waiting > 0:  # Si hay datos esperando en el buffer\n",
    "            linea = ser.readline().decode('utf-8', errors='replace').strip()\n",
    "            print(f\"Recibido: {linea}\")\n",
    "\n",
    "        time.sleep(0.1)  # Pequeña pausa para no saturar la CPU\n",
    "\n",
    "except:\n",
    "    print(f\"Error al abrir el puerto serial\")\n",
    "\n",
    "finally:\n",
    "    if 'ser' in locals() and ser.is_open:\n",
    "        ser.close()\n",
    "        print(\"Puerto serial cerrado\")\n"
   ]
  },
  {
   "cell_type": "code",
   "execution_count": null,
   "id": "5e877c85",
   "metadata": {},
   "outputs": [],
   "source": []
  }
 ],
 "metadata": {
  "kernelspec": {
   "display_name": "Python 3",
   "language": "python",
   "name": "python3"
  },
  "language_info": {
   "codemirror_mode": {
    "name": "ipython",
    "version": 3
   },
   "file_extension": ".py",
   "mimetype": "text/x-python",
   "name": "python",
   "nbconvert_exporter": "python",
   "pygments_lexer": "ipython3",
   "version": "3.11.0"
  }
 },
 "nbformat": 4,
 "nbformat_minor": 5
}
